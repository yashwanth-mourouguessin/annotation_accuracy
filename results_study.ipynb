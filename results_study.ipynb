{
  "cells": [
    {
      "cell_type": "code",
      "execution_count": 1,
      "metadata": {
        "gather": {
          "logged": 1699977211645
        }
      },
      "outputs": [],
      "source": [
        "from sklearn.metrics import classification_report, confusion_matrix, ConfusionMatrixDisplay\n",
        "import matplotlib.pyplot as plt\n",
        "import pandas as pd"
      ]
    },
    {
      "cell_type": "code",
      "execution_count": 2,
      "metadata": {
        "gather": {
          "logged": 1699977212185
        },
        "jupyter": {
          "outputs_hidden": false,
          "source_hidden": false
        },
        "nteract": {
          "transient": {
            "deleting": false
          }
        }
      },
      "outputs": [
        {
          "data": {
            "text/plain": [
              "(4982, 13)"
            ]
          },
          "execution_count": 2,
          "metadata": {},
          "output_type": "execute_result"
        }
      ],
      "source": [
        "df_annoter = pd.read_csv(\"../0data/resultats_catego_unique_annoter.csv\", sep=';')\n",
        "df_annoter.shape"
      ]
    },
    {
      "cell_type": "code",
      "execution_count": 3,
      "metadata": {
        "editable": false,
        "gather": {
          "logged": 1698751996055
        },
        "jupyter": {
          "outputs_hidden": false,
          "source_hidden": false
        },
        "nteract": {
          "transient": {
            "deleting": false
          }
        },
        "run_control": {
          "frozen": true
        }
      },
      "outputs": [],
      "source": [
        "df_without_stopwords = pd.read_csv(\"../../resultats_categorisation_without_stopwords.csv\")\n",
        "\n",
        "df_merge_cat = df_annoter[['id', 'level_1_annoter', 'level_2_annoter', \n",
        "'level_3_annoter', 'level_4_annoter']].merge(df_without_stopwords, on='id')"
      ]
    },
    {
      "cell_type": "code",
      "execution_count": 3,
      "metadata": {
        "editable": true,
        "gather": {
          "logged": 1698934201837
        },
        "jupyter": {
          "outputs_hidden": false,
          "source_hidden": false
        },
        "nteract": {
          "transient": {
            "deleting": false
          }
        },
        "run_control": {
          "frozen": false
        }
      },
      "outputs": [],
      "source": [
        "df_with_stopwords = pd.read_csv(\"../../result_catego_organicResult_knowledgeGraph_withoutCleaning_withoutCleaning.csv\")\n",
        "\n",
        "df_merge_cat = df_annoter[['id', 'level_1_annoter', 'level_2_annoter', \n",
        "'level_3_annoter', 'level_4_annoter']].merge(df_with_stopwords, on='id')"
      ]
    },
    {
      "cell_type": "code",
      "execution_count": 4,
      "metadata": {
        "gather": {
          "logged": 1698934202467
        },
        "jupyter": {
          "outputs_hidden": false,
          "source_hidden": false
        },
        "nteract": {
          "transient": {
            "deleting": false
          }
        }
      },
      "outputs": [
        {
          "data": {
            "text/plain": [
              "(4982, 17)"
            ]
          },
          "execution_count": 4,
          "metadata": {},
          "output_type": "execute_result"
        }
      ],
      "source": [
        "df_merge_cat.shape"
      ]
    },
    {
      "cell_type": "code",
      "execution_count": 5,
      "metadata": {
        "gather": {
          "logged": 1698934203796
        },
        "jupyter": {
          "outputs_hidden": false,
          "source_hidden": false
        },
        "nteract": {
          "transient": {
            "deleting": false
          }
        }
      },
      "outputs": [],
      "source": [
        "df_merge_cat = df_merge_cat.drop(columns=['Unnamed: 0.1', 'Unnamed: 0', \n",
        "'dates_reference'])"
      ]
    },
    {
      "cell_type": "code",
      "execution_count": 6,
      "metadata": {
        "gather": {
          "logged": 1698934204376
        },
        "jupyter": {
          "outputs_hidden": false,
          "source_hidden": false
        },
        "nteract": {
          "transient": {
            "deleting": false
          }
        }
      },
      "outputs": [
        {
          "data": {
            "text/plain": [
              "id                    0\n",
              "level_1_annoter     435\n",
              "level_2_annoter      84\n",
              "level_3_annoter     518\n",
              "level_4_annoter    3465\n",
              "level_1               0\n",
              "level_2              81\n",
              "level_3              81\n",
              "level_4            3754\n",
              "model                 0\n",
              "clean_scrapping       0\n",
              "account_id            0\n",
              "amount                0\n",
              "descriptions          0\n",
              "dtype: int64"
            ]
          },
          "execution_count": 6,
          "metadata": {},
          "output_type": "execute_result"
        }
      ],
      "source": [
        "df_merge_cat.isna().sum()"
      ]
    },
    {
      "cell_type": "code",
      "execution_count": 7,
      "metadata": {
        "gather": {
          "logged": 1698934206089
        },
        "jupyter": {
          "outputs_hidden": false,
          "source_hidden": false
        },
        "nteract": {
          "transient": {
            "deleting": false
          }
        }
      },
      "outputs": [],
      "source": [
        "df_an = df_merge_cat.copy()"
      ]
    },
    {
      "cell_type": "code",
      "execution_count": 8,
      "metadata": {
        "gather": {
          "logged": 1698934206516
        },
        "jupyter": {
          "outputs_hidden": false,
          "source_hidden": false
        },
        "nteract": {
          "transient": {
            "deleting": false
          }
        }
      },
      "outputs": [
        {
          "data": {
            "text/plain": [
              "(4547, 14)"
            ]
          },
          "execution_count": 8,
          "metadata": {},
          "output_type": "execute_result"
        }
      ],
      "source": [
        "df_an = df_an.dropna(subset=['level_1_annoter'])\n",
        "df_an.shape"
      ]
    },
    {
      "cell_type": "code",
      "execution_count": 9,
      "metadata": {
        "gather": {
          "logged": 1698934208099
        },
        "jupyter": {
          "outputs_hidden": false,
          "source_hidden": false
        },
        "nteract": {
          "transient": {
            "deleting": false
          }
        }
      },
      "outputs": [
        {
          "data": {
            "text/plain": [
              "id                    0\n",
              "level_1_annoter       0\n",
              "level_2_annoter      79\n",
              "level_3_annoter      83\n",
              "level_4_annoter    3030\n",
              "level_1               0\n",
              "level_2              81\n",
              "level_3              81\n",
              "level_4            3334\n",
              "model                 0\n",
              "clean_scrapping       0\n",
              "account_id            0\n",
              "amount                0\n",
              "descriptions          0\n",
              "dtype: int64"
            ]
          },
          "execution_count": 9,
          "metadata": {},
          "output_type": "execute_result"
        }
      ],
      "source": [
        "df_an.isna().sum()"
      ]
    },
    {
      "cell_type": "code",
      "execution_count": 10,
      "metadata": {
        "gather": {
          "logged": 1698934209337
        },
        "jupyter": {
          "outputs_hidden": false,
          "source_hidden": false
        },
        "nteract": {
          "transient": {
            "deleting": false
          }
        }
      },
      "outputs": [],
      "source": [
        "df_an = df_an.fillna('')"
      ]
    },
    {
      "cell_type": "code",
      "execution_count": 11,
      "metadata": {
        "gather": {
          "logged": 1698934210142
        },
        "jupyter": {
          "outputs_hidden": false,
          "source_hidden": false
        },
        "nteract": {
          "transient": {
            "deleting": false
          }
        }
      },
      "outputs": [
        {
          "data": {
            "text/plain": [
              "id                 0\n",
              "level_1_annoter    0\n",
              "level_2_annoter    0\n",
              "level_3_annoter    0\n",
              "level_4_annoter    0\n",
              "level_1            0\n",
              "level_2            0\n",
              "level_3            0\n",
              "level_4            0\n",
              "model              0\n",
              "clean_scrapping    0\n",
              "account_id         0\n",
              "amount             0\n",
              "descriptions       0\n",
              "dtype: int64"
            ]
          },
          "execution_count": 11,
          "metadata": {},
          "output_type": "execute_result"
        }
      ],
      "source": [
        "df_an.isna().sum()"
      ]
    },
    {
      "cell_type": "code",
      "execution_count": 12,
      "metadata": {
        "gather": {
          "logged": 1698934212063
        },
        "jupyter": {
          "outputs_hidden": false,
          "source_hidden": false
        },
        "nteract": {
          "transient": {
            "deleting": false
          }
        }
      },
      "outputs": [
        {
          "data": {
            "text/plain": [
              "(4546, 14)"
            ]
          },
          "execution_count": 12,
          "metadata": {},
          "output_type": "execute_result"
        }
      ],
      "source": [
        "df_an = df_an[~(df_an.level_2_annoter=='???')]\n",
        "df_an.shape"
      ]
    },
    {
      "cell_type": "code",
      "execution_count": 13,
      "metadata": {
        "gather": {
          "logged": 1698934214358
        },
        "jupyter": {
          "outputs_hidden": false,
          "source_hidden": false
        },
        "nteract": {
          "transient": {
            "deleting": false
          }
        }
      },
      "outputs": [],
      "source": [
        "df_ml = df_an[df_an.model=='ML']\n",
        "df_rules = df_an[df_an.model=='rules']"
      ]
    },
    {
      "cell_type": "code",
      "execution_count": 14,
      "metadata": {
        "gather": {
          "logged": 1698934215940
        },
        "jupyter": {
          "outputs_hidden": false,
          "source_hidden": false
        },
        "nteract": {
          "transient": {
            "deleting": false
          }
        }
      },
      "outputs": [
        {
          "data": {
            "text/plain": [
              "level_2_annoter\n",
              "food                     433\n",
              "leisure_activity         282\n",
              "other                    241\n",
              "financial_institution    120\n",
              "transport                 95\n",
              "health                    45\n",
              "charge                    30\n",
              "Name: count, dtype: int64"
            ]
          },
          "execution_count": 14,
          "metadata": {},
          "output_type": "execute_result"
        }
      ],
      "source": [
        "df_ml.level_2_annoter.value_counts()"
      ]
    },
    {
      "cell_type": "code",
      "execution_count": 15,
      "metadata": {
        "gather": {
          "logged": 1698934218820
        },
        "jupyter": {
          "outputs_hidden": false,
          "source_hidden": false
        },
        "nteract": {
          "transient": {
            "deleting": false
          }
        }
      },
      "outputs": [
        {
          "data": {
            "text/plain": [
              "level_2\n",
              "other                    786\n",
              "leisure_activity         172\n",
              "food                     170\n",
              "transport                 50\n",
              "health                    29\n",
              "financial_institution     21\n",
              "charge                    18\n",
              "Name: count, dtype: int64"
            ]
          },
          "execution_count": 15,
          "metadata": {},
          "output_type": "execute_result"
        }
      ],
      "source": [
        "df_ml.level_2.value_counts()"
      ]
    },
    {
      "cell_type": "code",
      "execution_count": 16,
      "metadata": {
        "gather": {
          "logged": 1698934225224
        },
        "jupyter": {
          "outputs_hidden": false,
          "source_hidden": false
        },
        "nteract": {
          "transient": {
            "deleting": false
          }
        }
      },
      "outputs": [
        {
          "data": {
            "text/plain": [
              "model\n",
              "rules    72.591289\n",
              "ML       27.408711\n",
              "Name: proportion, dtype: float64"
            ]
          },
          "execution_count": 16,
          "metadata": {},
          "output_type": "execute_result"
        }
      ],
      "source": [
        "df_an.model.value_counts(True)*100"
      ]
    },
    {
      "cell_type": "code",
      "execution_count": 17,
      "metadata": {
        "gather": {
          "logged": 1698934227220
        },
        "jupyter": {
          "outputs_hidden": false,
          "source_hidden": false
        },
        "nteract": {
          "transient": {
            "deleting": false
          }
        }
      },
      "outputs": [],
      "source": [
        "from PIL import Image, ImageDraw, ImageFont\n",
        "\n",
        "\n",
        "def classification_report_image(report, path):\n",
        "    # Create an image\n",
        "    image = Image.new(\"RGB\", (500, 1000), \"white\")\n",
        "\n",
        "    # Create a drawing context\n",
        "    draw = ImageDraw.Draw(image)\n",
        "\n",
        "    # Define font and font size\n",
        "    font = ImageFont.load_default()\n",
        "\n",
        "    # Split the classification report into lines\n",
        "    lines = report.split(\"\\n\")\n",
        "\n",
        "    # Set the starting y-coordinate for the text\n",
        "    y = 10\n",
        "\n",
        "    # Write each line of the report to the image\n",
        "    for line in lines:\n",
        "        draw.text((10, y), line, fill=\"black\", font=font)\n",
        "        y += 20\n",
        "\n",
        "    # Save the image as a PNG file\n",
        "    image.save(path)"
      ]
    },
    {
      "cell_type": "code",
      "execution_count": 18,
      "metadata": {
        "gather": {
          "logged": 1698934227903
        },
        "jupyter": {
          "outputs_hidden": false,
          "source_hidden": false
        },
        "nteract": {
          "transient": {
            "deleting": false
          }
        }
      },
      "outputs": [],
      "source": [
        "import numpy as np\n",
        "\n",
        "def plot_confusion_matrix(conf_matrix, class_names, height, width, title, fontsize=12):\n",
        "    plt.figure(figsize=(height, width))\n",
        "    plt.imshow(conf_matrix, interpolation='nearest', cmap=plt.get_cmap('Blues'))\n",
        "    plt.title('Confusion Matrix')\n",
        "    plt.colorbar()\n",
        "\n",
        "    tick_marks = np.arange(len(class_names))\n",
        "    plt.xticks(tick_marks, class_names, rotation=45)\n",
        "    plt.yticks(tick_marks, class_names)\n",
        "\n",
        "    for i in range(len(class_names)):\n",
        "        for j in range(len(class_names)):\n",
        "            plt.text(j, i, str(conf_matrix[i, j]), horizontalalignment=\"center\", fontsize=fontsize, color=\"black\")\n",
        "\n",
        "    plt.ylabel('True label')\n",
        "    plt.xlabel('Predicted label')\n",
        "    plt.xticks(rotation=90)\n",
        "    plt.tight_layout()\n",
        "\n",
        "    # Display the plot or save it as an image\n",
        "    # plt.show()\n",
        "    # To save as an image (e.g., PNG):\n",
        "    plt.savefig(title, format='png')\n"
      ]
    },
    {
      "cell_type": "code",
      "execution_count": 19,
      "metadata": {
        "gather": {
          "logged": 1698934229410
        },
        "jupyter": {
          "outputs_hidden": false,
          "source_hidden": false
        },
        "nteract": {
          "transient": {
            "deleting": false
          }
        }
      },
      "outputs": [],
      "source": [
        "def result(dataframe, level, height=10, width=10, title='foo'):\n",
        "    dict_level_value = {\n",
        "        'level_1': ['autres', 'cb', 'depot', 'reimbursement', 'retrait', 'sepa', 'vir'], \n",
        "        'level_2': ['', 'charge', 'financial_institution', 'food', 'health', 'income',\n",
        "        'leisure_activity', 'other', 'transport'], \n",
        "        'level_3': ['', 'A categoriser', 'account_mouvement', 'animal', 'automobile', 'catering', 'cheque_deposit', 'consumer_loan', 'cultural_fun_electronic goods', 'e_shop', 'family', 'fee', 'fine', 'gambling', 'insurance', 'konbini', 'large_retailer', 'layout', 'medical', 'other', 'other_market', 'other_revenue', 'outfits', 'outing', 'pharmacy', 'physical', 'plane', 'public_transport', 'reimbursement', 'rent', 'salary', 'social_aid', 'streaming', 'taxe', 'taxi', 'telecom', 'utilities', 'withdrawal'], \n",
        "        'level_4': ['', 'bakery_pastry_shop', 'butchery', 'culture', 'delivery', 'e_shop', 'fast_food', 'fuel', 'hypermarket_supermarket', 'layout', 'other', 'outing', 'parking', 'proxi_shop', 'restaurant', 'spare_parts', 'toll']\n",
        "    }\n",
        "\n",
        "    y_true = dataframe[level+'_annoter'].tolist()\n",
        "    y_pred = dataframe[level].tolist()\n",
        "\n",
        "    cr = classification_report(y_true, y_pred)#, target_names=dict_level_value[level])\n",
        "    classification_report_image(cr, path='image/cr_'+title+'.png')\n",
        "\n",
        "    #cm = confusion_matrix(y_true, y_pred)#, labels=dict_level_value[level])\n",
        "\n",
        "    #disp = ConfusionMatrixDisplay(\n",
        "    #    confusion_matrix=cm, \n",
        "    #    display_labels=dict_level_value[level])\n",
        "\n",
        "    #fig, ax = plt.subplots(figsize=(height, width))\n",
        "    #disp.plot(ax=ax)\n",
        "    #plt.xticks(rotation=90)\n",
        "    #fig.savefig('image/'+title+'.png')\n",
        "    #plt.close(fig)\n",
        "\n",
        "    #plot_confusion_matrix(cm, dict_level_value[level], height, width, fontsize=12, title='image/'+title+'.png')\n"
      ]
    },
    {
      "cell_type": "code",
      "execution_count": 20,
      "metadata": {
        "gather": {
          "logged": 1698934230870
        },
        "jupyter": {
          "outputs_hidden": false,
          "source_hidden": false
        },
        "nteract": {
          "transient": {
            "deleting": false
          }
        }
      },
      "outputs": [
        {
          "data": {
            "text/plain": [
              "level_3_annoter\n",
              "large_retailer                   458\n",
              "A categoriser                    323\n",
              "withdrawal                       216\n",
              "catering                         212\n",
              "consumer_loan                    167\n",
              "cultural_fun_electronic goods    163\n",
              "telecom                          132\n",
              "outfits                          125\n",
              "automobile                       120\n",
              "insurance                        115\n",
              "other                            109\n",
              "salary                           104\n",
              "social_aid                        99\n",
              "other_revenue                     98\n",
              "                                  79\n",
              "fee                               72\n",
              "reimbursement                     71\n",
              "account_mouvement                 70\n",
              "pharmacy                          68\n",
              "public_transport                  67\n",
              "other_market                      62\n",
              "gambling                          58\n",
              "konbini                           54\n",
              "streaming                         45\n",
              "family                            43\n",
              "utilities                         40\n",
              "cheque_deposit                    36\n",
              "rent                              27\n",
              "taxi                              21\n",
              "taxe                              12\n",
              "fine                               9\n",
              "medical                            8\n",
              "physical                           7\n",
              "animal                             6\n",
              "plane                              4\n",
              "Name: count, dtype: int64"
            ]
          },
          "execution_count": 20,
          "metadata": {},
          "output_type": "execute_result"
        }
      ],
      "source": [
        "df_rules.level_3_annoter.value_counts()"
      ]
    },
    {
      "cell_type": "code",
      "execution_count": 36,
      "metadata": {
        "gather": {
          "logged": 1698934601709
        },
        "jupyter": {
          "outputs_hidden": false,
          "source_hidden": false
        },
        "nteract": {
          "transient": {
            "deleting": false
          }
        }
      },
      "outputs": [],
      "source": [
        "result(df_an, 'level_1', height=5, width=5, title='organicResult_knowledgeGraph_withoutCleaningl1')"
      ]
    },
    {
      "cell_type": "code",
      "execution_count": 37,
      "metadata": {
        "gather": {
          "logged": 1698934602158
        },
        "jupyter": {
          "outputs_hidden": false,
          "source_hidden": false
        },
        "nteract": {
          "transient": {
            "deleting": false
          }
        }
      },
      "outputs": [],
      "source": [
        "result(df_an, 'level_2', height=5, width=5, title='organicResult_knowledgeGraph_withoutCleaningl2')"
      ]
    },
    {
      "cell_type": "code",
      "execution_count": 38,
      "metadata": {
        "gather": {
          "logged": 1698934602420
        },
        "jupyter": {
          "outputs_hidden": false,
          "source_hidden": false
        },
        "nteract": {
          "transient": {
            "deleting": false
          }
        }
      },
      "outputs": [
        {
          "name": "stderr",
          "output_type": "stream",
          "text": [
            "/anaconda/envs/azureml_py310_sdkv2/lib/python3.10/site-packages/sklearn/metrics/_classification.py:1344: UndefinedMetricWarning: Precision and F-score are ill-defined and being set to 0.0 in labels with no predicted samples. Use `zero_division` parameter to control this behavior.\n",
            "  _warn_prf(average, modifier, msg_start, len(result))\n",
            "/anaconda/envs/azureml_py310_sdkv2/lib/python3.10/site-packages/sklearn/metrics/_classification.py:1344: UndefinedMetricWarning: Precision and F-score are ill-defined and being set to 0.0 in labels with no predicted samples. Use `zero_division` parameter to control this behavior.\n",
            "  _warn_prf(average, modifier, msg_start, len(result))\n",
            "/anaconda/envs/azureml_py310_sdkv2/lib/python3.10/site-packages/sklearn/metrics/_classification.py:1344: UndefinedMetricWarning: Precision and F-score are ill-defined and being set to 0.0 in labels with no predicted samples. Use `zero_division` parameter to control this behavior.\n",
            "  _warn_prf(average, modifier, msg_start, len(result))\n"
          ]
        }
      ],
      "source": [
        "result(df_an, 'level_3', height=10, width=10, title='organicResult_knowledgeGraph_withoutCleaningl3')"
      ]
    },
    {
      "cell_type": "code",
      "execution_count": 39,
      "metadata": {
        "gather": {
          "logged": 1698934603160
        },
        "jupyter": {
          "outputs_hidden": false,
          "source_hidden": false
        },
        "nteract": {
          "transient": {
            "deleting": false
          }
        }
      },
      "outputs": [
        {
          "name": "stderr",
          "output_type": "stream",
          "text": [
            "/anaconda/envs/azureml_py310_sdkv2/lib/python3.10/site-packages/sklearn/metrics/_classification.py:1344: UndefinedMetricWarning: Precision and F-score are ill-defined and being set to 0.0 in labels with no predicted samples. Use `zero_division` parameter to control this behavior.\n",
            "  _warn_prf(average, modifier, msg_start, len(result))\n",
            "/anaconda/envs/azureml_py310_sdkv2/lib/python3.10/site-packages/sklearn/metrics/_classification.py:1344: UndefinedMetricWarning: Precision and F-score are ill-defined and being set to 0.0 in labels with no predicted samples. Use `zero_division` parameter to control this behavior.\n",
            "  _warn_prf(average, modifier, msg_start, len(result))\n",
            "/anaconda/envs/azureml_py310_sdkv2/lib/python3.10/site-packages/sklearn/metrics/_classification.py:1344: UndefinedMetricWarning: Precision and F-score are ill-defined and being set to 0.0 in labels with no predicted samples. Use `zero_division` parameter to control this behavior.\n",
            "  _warn_prf(average, modifier, msg_start, len(result))\n"
          ]
        }
      ],
      "source": [
        "result(df_an, 'level_4', height=10, width=10, title='organicResult_knowledgeGraph_withoutCleaningl4')"
      ]
    },
    {
      "cell_type": "code",
      "execution_count": null,
      "metadata": {
        "jupyter": {
          "outputs_hidden": false,
          "source_hidden": false
        },
        "nteract": {
          "transient": {
            "deleting": false
          }
        }
      },
      "outputs": [],
      "source": []
    },
    {
      "cell_type": "code",
      "execution_count": 40,
      "metadata": {
        "gather": {
          "logged": 1698934603909
        },
        "jupyter": {
          "outputs_hidden": false,
          "source_hidden": false
        },
        "nteract": {
          "transient": {
            "deleting": false
          }
        }
      },
      "outputs": [],
      "source": [
        "result(df_rules, 'level_2', height=5, width=5, title='organicResult_knowledgeGraph_withoutCleaning_rules_l2')"
      ]
    },
    {
      "cell_type": "code",
      "execution_count": 41,
      "metadata": {
        "gather": {
          "logged": 1698934604104
        },
        "jupyter": {
          "outputs_hidden": false,
          "source_hidden": false
        },
        "nteract": {
          "transient": {
            "deleting": false
          }
        }
      },
      "outputs": [],
      "source": [
        "result(df_rules, 'level_3', height=5, width=5, title='organicResult_knowledgeGraph_withoutCleaning_rules_l3')"
      ]
    },
    {
      "cell_type": "code",
      "execution_count": 42,
      "metadata": {
        "gather": {
          "logged": 1698934604718
        },
        "jupyter": {
          "outputs_hidden": false,
          "source_hidden": false
        },
        "nteract": {
          "transient": {
            "deleting": false
          }
        }
      },
      "outputs": [],
      "source": [
        "result(df_rules, 'level_4', height=5, width=5, title='organicResult_knowledgeGraph_withoutCleaning_rules_l4')"
      ]
    },
    {
      "cell_type": "code",
      "execution_count": null,
      "metadata": {
        "jupyter": {
          "outputs_hidden": false,
          "source_hidden": false
        },
        "nteract": {
          "transient": {
            "deleting": false
          }
        }
      },
      "outputs": [],
      "source": []
    },
    {
      "cell_type": "code",
      "execution_count": 43,
      "metadata": {
        "gather": {
          "logged": 1698934604912
        },
        "jupyter": {
          "outputs_hidden": false,
          "source_hidden": false
        },
        "nteract": {
          "transient": {
            "deleting": false
          }
        }
      },
      "outputs": [],
      "source": [
        "#df_ml[(df_ml.level_2_annoter=='other') & (df_ml.level_3_annoter=='other')]\n"
      ]
    },
    {
      "cell_type": "code",
      "execution_count": 44,
      "metadata": {
        "gather": {
          "logged": 1698934605574
        },
        "jupyter": {
          "outputs_hidden": false,
          "source_hidden": false
        },
        "nteract": {
          "transient": {
            "deleting": false
          }
        }
      },
      "outputs": [],
      "source": [
        "result(df_ml, 'level_2', height=5, width=5, title='organicResult_knowledgeGraph_withoutCleaning_ml_l2')"
      ]
    },
    {
      "cell_type": "code",
      "execution_count": 45,
      "metadata": {
        "gather": {
          "logged": 1698934605922
        },
        "jupyter": {
          "outputs_hidden": false,
          "source_hidden": false
        },
        "nteract": {
          "transient": {
            "deleting": false
          }
        }
      },
      "outputs": [
        {
          "name": "stderr",
          "output_type": "stream",
          "text": [
            "/anaconda/envs/azureml_py310_sdkv2/lib/python3.10/site-packages/sklearn/metrics/_classification.py:1344: UndefinedMetricWarning: Precision and F-score are ill-defined and being set to 0.0 in labels with no predicted samples. Use `zero_division` parameter to control this behavior.\n",
            "  _warn_prf(average, modifier, msg_start, len(result))\n",
            "/anaconda/envs/azureml_py310_sdkv2/lib/python3.10/site-packages/sklearn/metrics/_classification.py:1344: UndefinedMetricWarning: Precision and F-score are ill-defined and being set to 0.0 in labels with no predicted samples. Use `zero_division` parameter to control this behavior.\n",
            "  _warn_prf(average, modifier, msg_start, len(result))\n",
            "/anaconda/envs/azureml_py310_sdkv2/lib/python3.10/site-packages/sklearn/metrics/_classification.py:1344: UndefinedMetricWarning: Precision and F-score are ill-defined and being set to 0.0 in labels with no predicted samples. Use `zero_division` parameter to control this behavior.\n",
            "  _warn_prf(average, modifier, msg_start, len(result))\n"
          ]
        }
      ],
      "source": [
        "result(df_ml, 'level_3', height=10, width=10, title='organicResult_knowledgeGraph_withoutCleaning_ml_l3')"
      ]
    },
    {
      "cell_type": "code",
      "execution_count": 46,
      "metadata": {
        "gather": {
          "logged": 1698934606591
        },
        "jupyter": {
          "outputs_hidden": false,
          "source_hidden": false
        },
        "nteract": {
          "transient": {
            "deleting": false
          }
        }
      },
      "outputs": [
        {
          "name": "stderr",
          "output_type": "stream",
          "text": [
            "/anaconda/envs/azureml_py310_sdkv2/lib/python3.10/site-packages/sklearn/metrics/_classification.py:1344: UndefinedMetricWarning: Precision and F-score are ill-defined and being set to 0.0 in labels with no predicted samples. Use `zero_division` parameter to control this behavior.\n",
            "  _warn_prf(average, modifier, msg_start, len(result))\n",
            "/anaconda/envs/azureml_py310_sdkv2/lib/python3.10/site-packages/sklearn/metrics/_classification.py:1344: UndefinedMetricWarning: Precision and F-score are ill-defined and being set to 0.0 in labels with no predicted samples. Use `zero_division` parameter to control this behavior.\n",
            "  _warn_prf(average, modifier, msg_start, len(result))\n",
            "/anaconda/envs/azureml_py310_sdkv2/lib/python3.10/site-packages/sklearn/metrics/_classification.py:1344: UndefinedMetricWarning: Precision and F-score are ill-defined and being set to 0.0 in labels with no predicted samples. Use `zero_division` parameter to control this behavior.\n",
            "  _warn_prf(average, modifier, msg_start, len(result))\n"
          ]
        }
      ],
      "source": [
        "result(df_ml, 'level_4', height=10, width=10, title='organicResult_knowledgeGraph_withoutCleaning_ml_l4')"
      ]
    },
    {
      "cell_type": "code",
      "execution_count": null,
      "metadata": {
        "jupyter": {
          "outputs_hidden": false,
          "source_hidden": false
        },
        "nteract": {
          "transient": {
            "deleting": false
          }
        }
      },
      "outputs": [],
      "source": []
    },
    {
      "cell_type": "code",
      "execution_count": null,
      "metadata": {
        "jupyter": {
          "outputs_hidden": false,
          "source_hidden": false
        },
        "nteract": {
          "transient": {
            "deleting": false
          }
        }
      },
      "outputs": [],
      "source": []
    },
    {
      "cell_type": "code",
      "execution_count": 32,
      "metadata": {
        "gather": {
          "logged": 1698934303325
        },
        "jupyter": {
          "outputs_hidden": false,
          "source_hidden": false
        },
        "nteract": {
          "transient": {
            "deleting": false
          }
        }
      },
      "outputs": [
        {
          "name": "stderr",
          "output_type": "stream",
          "text": [
            "/tmp/ipykernel_48889/1641224944.py:1: SettingWithCopyWarning: \n",
            "A value is trying to be set on a copy of a slice from a DataFrame.\n",
            "Try using .loc[row_indexer,col_indexer] = value instead\n",
            "\n",
            "See the caveats in the documentation: https://pandas.pydata.org/pandas-docs/stable/user_guide/indexing.html#returning-a-view-versus-a-copy\n",
            "  df_ml['same'] = df_ml.apply(lambda x: x.level_2_annoter==x.level_2, axis=1)\n",
            "/tmp/ipykernel_48889/1641224944.py:2: SettingWithCopyWarning: \n",
            "A value is trying to be set on a copy of a slice from a DataFrame.\n",
            "Try using .loc[row_indexer,col_indexer] = value instead\n",
            "\n",
            "See the caveats in the documentation: https://pandas.pydata.org/pandas-docs/stable/user_guide/indexing.html#returning-a-view-versus-a-copy\n",
            "  df_ml['tuple'] = df_ml.apply(lambda x: (x.level_2, x.level_2_annoter), axis=1)\n"
          ]
        },
        {
          "data": {
            "text/plain": [
              "tuple\n",
              "(other, food)                                261\n",
              "(other, leisure_activity)                    140\n",
              "(other, financial_institution)                93\n",
              "(other, transport)                            44\n",
              "(other, health)                               24\n",
              "(leisure_activity, food)                      19\n",
              "(other, charge)                               16\n",
              "(leisure_activity, other)                     14\n",
              "(food, other)                                  9\n",
              "(food, leisure_activity)                       9\n",
              "(financial_institution, other)                 4\n",
              "(leisure_activity, financial_institution)      4\n",
              "(health, leisure_activity)                     3\n",
              "(leisure_activity, transport)                  3\n",
              "(health, financial_institution)                3\n",
              "(health, other)                                3\n",
              "(leisure_activity, health)                     3\n",
              "(transport, other)                             3\n",
              "(charge, food)                                 2\n",
              "(transport, leisure_activity)                  2\n",
              "(food, transport)                              2\n",
              "(leisure_activity, charge)                     2\n",
              "(charge, transport)                            2\n",
              "(charge, leisure_activity)                     1\n",
              "(transport, financial_institution)             1\n",
              "(health, food)                                 1\n",
              "(health, transport)                            1\n",
              "(food, financial_institution)                  1\n",
              "(charge, financial_institution)                1\n",
              "(transport, food)                              1\n",
              "Name: count, dtype: int64"
            ]
          },
          "execution_count": 32,
          "metadata": {},
          "output_type": "execute_result"
        }
      ],
      "source": [
        "df_ml['same'] = df_ml.apply(lambda x: x.level_2_annoter==x.level_2, axis=1)\n",
        "df_ml['tuple'] = df_ml.apply(lambda x: (x.level_2, x.level_2_annoter), axis=1)\n",
        "df_ml[df_ml.same==False].tuple.value_counts()\n"
      ]
    },
    {
      "cell_type": "code",
      "execution_count": 47,
      "metadata": {
        "editable": true,
        "gather": {
          "logged": 1698934612654
        },
        "jupyter": {
          "outputs_hidden": false,
          "source_hidden": false
        },
        "nteract": {
          "transient": {
            "deleting": false
          }
        },
        "run_control": {
          "frozen": false
        }
      },
      "outputs": [
        {
          "data": {
            "text/plain": [
              "'/mnt/batch/tasks/shared/LS_root/mounts/clusters/yash1/code/Users/yash/categorisation/annotation_accuracy/result_catego_organicResult_knowledgeGraph_withoutCleaning.zip'"
            ]
          },
          "execution_count": 47,
          "metadata": {},
          "output_type": "execute_result"
        }
      ],
      "source": [
        "import shutil\n",
        "shutil.make_archive(\n",
        "    \"result_catego_organicResult_knowledgeGraph_withoutCleaning\", \n",
        "    'zip', \n",
        "    'image')\n"
      ]
    },
    {
      "cell_type": "code",
      "execution_count": null,
      "metadata": {
        "jupyter": {
          "outputs_hidden": false,
          "source_hidden": false
        },
        "nteract": {
          "transient": {
            "deleting": false
          }
        }
      },
      "outputs": [],
      "source": []
    },
    {
      "cell_type": "code",
      "execution_count": null,
      "metadata": {
        "jupyter": {
          "outputs_hidden": false,
          "source_hidden": false
        },
        "nteract": {
          "transient": {
            "deleting": false
          }
        }
      },
      "outputs": [],
      "source": []
    },
    {
      "cell_type": "code",
      "execution_count": null,
      "metadata": {
        "jupyter": {
          "outputs_hidden": false,
          "source_hidden": false
        },
        "nteract": {
          "transient": {
            "deleting": false
          }
        }
      },
      "outputs": [],
      "source": []
    },
    {
      "cell_type": "code",
      "execution_count": null,
      "metadata": {
        "jupyter": {
          "outputs_hidden": false,
          "source_hidden": false
        },
        "nteract": {
          "transient": {
            "deleting": false
          }
        }
      },
      "outputs": [],
      "source": []
    }
  ],
  "metadata": {
    "kernel_info": {
      "name": "python310-sdkv2"
    },
    "kernelspec": {
      "display_name": "Python 3.10 - SDK v2",
      "language": "python",
      "name": "python310-sdkv2"
    },
    "language_info": {
      "codemirror_mode": {
        "name": "ipython",
        "version": 3
      },
      "file_extension": ".py",
      "mimetype": "text/x-python",
      "name": "python",
      "nbconvert_exporter": "python",
      "pygments_lexer": "ipython3",
      "version": "3.10.11"
    },
    "microsoft": {
      "host": {
        "AzureML": {
          "notebookHasBeenCompleted": true
        }
      },
      "ms_spell_check": {
        "ms_spell_check_language": "en"
      }
    },
    "nteract": {
      "version": "nteract-front-end@1.0.0"
    }
  },
  "nbformat": 4,
  "nbformat_minor": 2
}
